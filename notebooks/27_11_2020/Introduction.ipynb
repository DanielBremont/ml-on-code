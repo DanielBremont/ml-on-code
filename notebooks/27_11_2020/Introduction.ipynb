{
 "cells": [
  {
   "cell_type": "markdown",
   "metadata": {},
   "source": [
    "# What are we going to do in this talk?"
   ]
  },
  {
   "cell_type": "markdown",
   "metadata": {},
   "source": [
    "Well, we are going to use Machine Learning on **Source Code**. At the end of this session we will have a model, and a data mining technique, by which we can do something like this - \n",
    "\n",
    "```Python\n",
    "docstring = model(\"def add_tensors(t, t1) -> Any:\\n    return t + t1\")\n",
    "print(docstring)\n",
    "```\n",
    "\n",
    "Output -\n",
    "`Add two tensors.`"
   ]
  },
  {
   "cell_type": "markdown",
   "metadata": {},
   "source": [
    "# What other kind of applictions exist?"
   ]
  },
  {
   "cell_type": "markdown",
   "metadata": {},
   "source": [
    "- Type Hinting (Type checking) [Example](https://github.com/typilus/typilus-action)\n",
    "- Variable misuse (Whether the variable declared in the function parameters are used in proper context)\n",
    "- Bug Detection (Detect common bugs in my code) [Example](https://github.com/aricent/codedefectai)"
   ]
  },
  {
   "cell_type": "markdown",
   "metadata": {},
   "source": [
    "## A picture is worth ..."
   ]
  },
  {
   "cell_type": "markdown",
   "metadata": {},
   "source": [
    "![title](typechecking.png)"
   ]
  },
  {
   "cell_type": "code",
   "execution_count": null,
   "metadata": {},
   "outputs": [],
   "source": []
  }
 ],
 "metadata": {
  "kernelspec": {
   "display_name": "Python 3",
   "language": "python",
   "name": "python3"
  },
  "language_info": {
   "codemirror_mode": {
    "name": "ipython",
    "version": 3
   },
   "file_extension": ".py",
   "mimetype": "text/x-python",
   "name": "python",
   "nbconvert_exporter": "python",
   "pygments_lexer": "ipython3",
   "version": "3.6.5"
  }
 },
 "nbformat": 4,
 "nbformat_minor": 4
}
