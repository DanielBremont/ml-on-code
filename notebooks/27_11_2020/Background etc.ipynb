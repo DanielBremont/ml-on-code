{
 "cells": [
  {
   "cell_type": "markdown",
   "metadata": {},
   "source": [
    "Interacting with a machine in natural language, and automating a part of human work via it, is a long standing dream of humanity. We see some examples in \n",
    "\n",
    "    - Movies\n",
    "    - Sci-Fi novels\n",
    "    - Older experiments\n",
    "    - Programmer forums\n",
    "    \n",
    "And in many other places. \n",
    "\n",
    "Slowly but certainly a part of the dream is coming closer and closer to reality."
   ]
  },
  {
   "cell_type": "markdown",
   "metadata": {},
   "source": [
    "**Wait! Does that mean I am gonna loose my job as developer soon? AI is taking on the world?**\n",
    "\n",
    "😳 😲 😱"
   ]
  },
  {
   "cell_type": "markdown",
   "metadata": {},
   "source": [
    "🤣 🤣 🤣\n",
    "\n",
    "### NO!"
   ]
  },
  {
   "cell_type": "markdown",
   "metadata": {},
   "source": [
    "### What is ML-on-Code\n",
    "\n",
    "Machine Learning is generally good to learn patterns from data. More than 80 years of active research and hardware advances had pushed this paradigm of computational learning into newer and newer grounds. \n",
    "\n",
    "One of the main artefacts of computer science and which became ubiquitous in modern society, is software. Our world runs on it. But development of software is a hard, time taking, and expensive process(**in 2019 Stripe** estimated a cumulative **$87B per year is lost** due to developer productivity).There is therefore an ongoing demand for innovations in software tools that help make software more reliable and maintainable. New methods are constantly sought, to reduce the complexity of software and help engineers construct better software. \n",
    "\n",
    "**Enter ML-on-Code**\n",
    "\n",
    "But most of the old methods were \"theory-first\", \"logico-deductive\" in nature to reason about source code. The main argument being the underlying, mathematically well defined structure of source code."
   ]
  },
  {
   "cell_type": "markdown",
   "metadata": {},
   "source": [
    "### Data, Hardware, Newer methods become easily available, open source, and accessible "
   ]
  },
  {
   "cell_type": "markdown",
   "metadata": {},
   "source": [
    "Post 2012, we witnessed the advent of Big Data and Deep Learning. That changed the face of a lot of businesses forever (Google replacing their decade old Machine Translation system with one deep learning model, Autonomous Driving, DeepFake, GPT-3 ...) and in thier [seminal 2017 paper](https://arxiv.org/pdf/1709.06182.pdf) \"A Survey of Machine Learning for Big Code and Naturalness\", MILTIADIS ALLAMANIS et. al. porposed the Naturalness Hypothesis (Inspired from the legendary \"literate programming\" concept of D. Knuth)"
   ]
  },
  {
   "cell_type": "markdown",
   "metadata": {},
   "source": [
    "## Naturalness Hypothesis\n",
    "\n",
    "_Software is a form of human communication; software corpora have similar statistical properties to natural language corpora; and these properties can be exploited to build better software engineering tools._"
   ]
  },
  {
   "cell_type": "markdown",
   "metadata": {},
   "source": [
    "**Examples-**"
   ]
  },
  {
   "cell_type": "markdown",
   "metadata": {},
   "source": [
    "![title](wtv.png)"
   ]
  },
  {
   "cell_type": "markdown",
   "metadata": {},
   "source": [
    "<h3 align=\"center\">Word2Vec</h3> "
   ]
  },
  {
   "cell_type": "markdown",
   "metadata": {},
   "source": [
    "![code2vec](ctv.png)"
   ]
  },
  {
   "cell_type": "markdown",
   "metadata": {},
   "source": [
    "<h3 align=\"center\"><a href=\"https://code2vec.org/\">Code2Vec</a></h3> "
   ]
  },
  {
   "cell_type": "code",
   "execution_count": null,
   "metadata": {},
   "outputs": [],
   "source": []
  }
 ],
 "metadata": {
  "kernelspec": {
   "display_name": "Python 3",
   "language": "python",
   "name": "python3"
  },
  "language_info": {
   "codemirror_mode": {
    "name": "ipython",
    "version": 3
   },
   "file_extension": ".py",
   "mimetype": "text/x-python",
   "name": "python",
   "nbconvert_exporter": "python",
   "pygments_lexer": "ipython3",
   "version": "3.6.5"
  }
 },
 "nbformat": 4,
 "nbformat_minor": 4
}
